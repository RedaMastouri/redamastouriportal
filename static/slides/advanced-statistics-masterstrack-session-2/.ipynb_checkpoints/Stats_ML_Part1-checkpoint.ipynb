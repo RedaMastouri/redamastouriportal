{
 "cells": [
  {
   "cell_type": "code",
   "execution_count": 22,
   "metadata": {},
   "outputs": [],
   "source": [
    "import random\n",
    "import statistics as stats\n",
    "import numpy\n",
    "import math\n",
    "import matplotlib.pyplot as plt\n",
    "import seaborn as sns\n",
    "import pandas as pd"
   ]
  },
  {
   "cell_type": "code",
   "execution_count": 2,
   "metadata": {},
   "outputs": [
    {
     "ename": "SyntaxError",
     "evalue": "(unicode error) 'unicodeescape' codec can't decode bytes in position 2-3: truncated \\uXXXX escape (<ipython-input-2-f8b0b8931a7d>, line 2)",
     "output_type": "error",
     "traceback": [
      "\u001b[0;36m  File \u001b[0;32m\"<ipython-input-2-f8b0b8931a7d>\"\u001b[0;36m, line \u001b[0;32m2\u001b[0m\n\u001b[0;31m    sys.path.append('C:\\users\\name\\code\\my-Python-object-location')\u001b[0m\n\u001b[0m                   ^\u001b[0m\n\u001b[0;31mSyntaxError\u001b[0m\u001b[0;31m:\u001b[0m (unicode error) 'unicodeescape' codec can't decode bytes in position 2-3: truncated \\uXXXX escape\n"
     ]
    }
   ],
   "source": [
    "import sys\n",
    "sys.path.append('C:\\users\\name\\code\\my-Python-object-location')"
   ]
  },
  {
   "cell_type": "code",
   "execution_count": 23,
   "metadata": {},
   "outputs": [],
   "source": [
    "random.seed(50390)"
   ]
  },
  {
   "cell_type": "code",
   "execution_count": 31,
   "metadata": {},
   "outputs": [],
   "source": [
    "my_sample = numpy.random.normal(loc=0,scale = 2, size = 100) #normal"
   ]
  },
  {
   "cell_type": "code",
   "execution_count": 32,
   "metadata": {},
   "outputs": [
    {
     "data": {
      "text/plain": [
       "array([ 9.93481856e-01,  5.75256386e-01,  1.55227792e+00, -9.37378047e-02,\n",
       "       -6.12450759e-01, -5.06831433e-01,  1.57997607e-01,  1.79249231e+00,\n",
       "        7.96312857e-01, -7.79530086e-01, -9.58339956e-01, -3.53340304e+00,\n",
       "        1.00283667e+00,  4.33544826e+00,  4.98949221e-01,  2.33114120e-01,\n",
       "       -2.24730394e+00, -1.95717926e+00,  7.09069286e-01, -2.10386380e+00,\n",
       "       -1.06422145e-01,  1.15613598e-01, -1.09886080e+00, -3.08537471e+00,\n",
       "        6.32069223e-01, -3.81746828e-01, -2.51261534e+00,  8.75645836e-02,\n",
       "       -1.63327039e+00,  1.89435542e+00,  2.15957353e+00,  7.65992824e-01,\n",
       "        3.02416046e-01, -2.29015564e-01,  8.64026171e-01, -8.75657572e-01,\n",
       "        6.83595625e-01,  2.41364237e+00,  2.70661580e+00, -2.13397216e+00,\n",
       "       -1.33945824e+00,  1.70828142e+00,  3.33519331e+00,  2.64339992e+00,\n",
       "        2.15506319e-02, -9.23075309e-01,  3.23523472e+00, -2.14700442e+00,\n",
       "       -1.71383878e+00,  1.21570680e+00, -1.62454775e+00, -5.76057235e-01,\n",
       "       -4.41556236e+00, -2.16035328e+00,  2.43378728e-02,  1.93817596e+00,\n",
       "        1.44434076e+00,  1.25426504e+00, -1.42945246e+00,  1.62983233e+00,\n",
       "       -2.34311015e+00,  8.27812397e-01, -1.56058515e-02, -1.15931725e+00,\n",
       "       -5.99265884e-02, -1.84471032e+00,  2.44278993e+00, -2.75244403e-01,\n",
       "       -3.23291481e+00, -2.42214469e-06, -1.11916893e+00,  5.49921564e-01,\n",
       "        2.19327276e+00,  4.30917159e+00,  5.92638677e+00, -2.57146181e+00,\n",
       "       -2.54174244e+00, -2.14632251e+00, -1.40464141e+00, -3.02594331e+00,\n",
       "        9.91811938e-01, -1.46024047e+00, -1.51299428e+00, -9.73963203e-01,\n",
       "        2.70541528e+00, -1.31808823e+00, -1.51456861e-01,  1.38612841e+00,\n",
       "       -2.98611599e+00,  1.39777232e+00, -3.26417109e+00,  3.59760907e-01,\n",
       "       -2.95416961e+00, -9.35062108e-01,  1.66972716e+00,  2.03655643e+00,\n",
       "       -1.79096343e+00,  7.96624583e-01, -8.21455126e-02,  2.94638636e+00])"
      ]
     },
     "execution_count": 32,
     "metadata": {},
     "output_type": "execute_result"
    }
   ],
   "source": [
    "my_sample"
   ]
  },
  {
   "cell_type": "code",
   "execution_count": 33,
   "metadata": {},
   "outputs": [
    {
     "data": {
      "text/plain": [
       "<matplotlib.axes._subplots.AxesSubplot at 0x7f878f0226d8>"
      ]
     },
     "execution_count": 33,
     "metadata": {},
     "output_type": "execute_result"
    },
    {
     "data": {
      "image/png": "[encoded data removed]",
      "text/plain": [
       "<Figure size 432x288 with 1 Axes>"
      ]
     },
     "metadata": {
      "needs_background": "light"
     },
     "output_type": "display_data"
    }
   ],
   "source": [
    "sns.distplot(my_sample, hist=False)"
   ]
  },
  {
   "cell_type": "code",
   "execution_count": 26,
   "metadata": {},
   "outputs": [
    {
     "data": {
      "text/plain": [
       "0.034979090988965074"
      ]
     },
     "execution_count": 26,
     "metadata": {},
     "output_type": "execute_result"
    }
   ],
   "source": [
    "stats.mean(my_sample)"
   ]
  },
  {
   "cell_type": "code",
   "execution_count": 27,
   "metadata": {},
   "outputs": [
    {
     "data": {
      "text/plain": [
       "3.986342509504502"
      ]
     },
     "execution_count": 27,
     "metadata": {},
     "output_type": "execute_result"
    }
   ],
   "source": [
    "v=stats.variance(my_sample)\n",
    "v"
   ]
  },
  {
   "cell_type": "code",
   "execution_count": 28,
   "metadata": {},
   "outputs": [
    {
     "data": {
      "text/plain": [
       "1.9965827079048095"
      ]
     },
     "execution_count": 28,
     "metadata": {},
     "output_type": "execute_result"
    }
   ],
   "source": [
    "#Solving for sigma using sample variance\n",
    "math.sqrt(v)"
   ]
  },
  {
   "cell_type": "code",
   "execution_count": 38,
   "metadata": {},
   "outputs": [],
   "source": [
    "my_nums = pd.read_csv(\"my_sample.csv\") #sample is uniform\n",
    "my_nums = my_nums[\"x\"].tolist()"
   ]
  },
  {
   "cell_type": "code",
   "execution_count": 39,
   "metadata": {},
   "outputs": [
    {
     "data": {
      "text/plain": [
       "10000"
      ]
     },
     "execution_count": 39,
     "metadata": {},
     "output_type": "execute_result"
    }
   ],
   "source": [
    "len(my_nums)"
   ]
  },
  {
   "cell_type": "code",
   "execution_count": 40,
   "metadata": {},
   "outputs": [
    {
     "data": {
      "text/plain": [
       "5.513906104243407"
      ]
     },
     "execution_count": 40,
     "metadata": {},
     "output_type": "execute_result"
    }
   ],
   "source": [
    "stats.mean(my_nums) #Can we use sample moments to find parameters"
   ]
  },
  {
   "cell_type": "code",
   "execution_count": 41,
   "metadata": {},
   "outputs": [
    {
     "data": {
      "text/plain": [
       "6.673169412967319"
      ]
     },
     "execution_count": 41,
     "metadata": {},
     "output_type": "execute_result"
    }
   ],
   "source": [
    "stats.variance(my_nums)"
   ]
  },
  {
   "cell_type": "code",
   "execution_count": 42,
   "metadata": {},
   "outputs": [
    {
     "data": {
      "text/plain": [
       "<matplotlib.axes._subplots.AxesSubplot at 0x7f878f0fa588>"
      ]
     },
     "execution_count": 42,
     "metadata": {},
     "output_type": "execute_result"
    },
    {
     "data": {
      "image/png": "[encoded data removed]",
      "text/plain": [
       "<Figure size 432x288 with 1 Axes>"
      ]
     },
     "metadata": {
      "needs_background": "light"
     },
     "output_type": "display_data"
    }
   ],
   "source": [
    "sns.distplot(my_nums,hist=False)"
   ]
  },
  {
   "cell_type": "code",
   "execution_count": 34,
   "metadata": {},
   "outputs": [
    {
     "name": "stdout",
     "output_type": "stream",
     "text": [
      "1.0011236150749 9.999872184358539\n"
     ]
    }
   ],
   "source": [
    "print(min(my_nums),max(my_nums))"
   ]
  },
  {
   "cell_type": "code",
   "execution_count": 43,
   "metadata": {},
   "outputs": [],
   "source": [
    "dice = [1,2,3,4,5,6] #uniform"
   ]
  },
  {
   "cell_type": "code",
   "execution_count": 61,
   "metadata": {},
   "outputs": [],
   "source": [
    "# Central limit\n",
    "# Draws from Uniform Distribution becoming normal distribution\n",
    "dice_means = [0] * 1000\n",
    "for i in range(0,1000):\n",
    "    this_roll = random.choices(dice, k=1000)\n",
    "    dice_means[i] = stats.mean(this_roll)"
   ]
  },
  {
   "cell_type": "code",
   "execution_count": 62,
   "metadata": {},
   "outputs": [
    {
     "data": {
      "text/plain": [
       "3.503622"
      ]
     },
     "execution_count": 62,
     "metadata": {},
     "output_type": "execute_result"
    }
   ],
   "source": [
    "stats.mean(dice_means)"
   ]
  },
  {
   "cell_type": "code",
   "execution_count": 63,
   "metadata": {},
   "outputs": [
    {
     "data": {
      "text/plain": [
       "<matplotlib.axes._subplots.AxesSubplot at 0x7f878eff6358>"
      ]
     },
     "execution_count": 63,
     "metadata": {},
     "output_type": "execute_result"
    },
    {
     "data": {
      "image/png": "[encoded data removed]",
      "text/plain": [
       "<Figure size 432x288 with 1 Axes>"
      ]
     },
     "metadata": {
      "needs_background": "light"
     },
     "output_type": "display_data"
    }
   ],
   "source": [
    "sns.distplot(dice_means)"
   ]
  }
 ],
 "metadata": {
  "kernelspec": {
   "display_name": "Python 3",
   "language": "python",
   "name": "python3"
  },
  "language_info": {
   "codemirror_mode": {
    "name": "ipython",
    "version": 3
   },
   "file_extension": ".py",
   "mimetype": "text/x-python",
   "name": "python",
   "nbconvert_exporter": "python",
   "pygments_lexer": "ipython3",
   "version": "3.7.1"
  }
 },
 "nbformat": 4,
 "nbformat_minor": 2
}
